{
 "cells": [
  {
   "cell_type": "code",
   "execution_count": 2,
   "metadata": {},
   "outputs": [
    {
     "name": "stdout",
     "output_type": "stream",
     "text": [
      "$2b$12$McE094ntPFFRwbH/haRer.MKxcc3vglk48UKHjH.uxmVAimdcSb0i\n"
     ]
    }
   ],
   "source": [
    "import bcrypt\n",
    "\n",
    "# Define a password\n",
    "password = \"123\"\n",
    "\n",
    "# Hash the password\n",
    "hashed_password = bcrypt.hashpw(password.encode(), bcrypt.gensalt())\n",
    "\n",
    "# Print the hashed password\n",
    "print(hashed_password.decode())\n"
   ]
  }
 ],
 "metadata": {
  "kernelspec": {
   "display_name": "pycaret",
   "language": "python",
   "name": "python3"
  },
  "language_info": {
   "codemirror_mode": {
    "name": "ipython",
    "version": 3
   },
   "file_extension": ".py",
   "mimetype": "text/x-python",
   "name": "python",
   "nbconvert_exporter": "python",
   "pygments_lexer": "ipython3",
   "version": "3.12.4"
  }
 },
 "nbformat": 4,
 "nbformat_minor": 2
}
